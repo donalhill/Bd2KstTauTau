{
 "cells": [
  {
   "cell_type": "markdown",
   "metadata": {},
   "source": [
    "# $B$ peak reconstruction for $B^0 \\to K^* \\tau \\tau$ using $\\tau \\to 3\\pi \\nu$\n",
    "\n",
    "This method uses the maximum opening angle between the $3\\pi$ momentum and the $\\tau$ flight in order to estimate the $\\tau$ momentum, as used in the hadronic $R(D^*)$ measurements. Perfect detector performance is assumed on all input quantities, so resolution effects appear purely due to the $\\tau$ momentum estimates. "
   ]
  },
  {
   "cell_type": "code",
   "execution_count": 1,
   "metadata": {},
   "outputs": [],
   "source": [
    "import sys, os\n",
    "import uproot4 as uproot\n",
    "import numpy as np\n",
    "import matplotlib.pyplot as plt\n",
    "import json\n",
    "from particle import literals as lp\n",
    "\n",
    "from matplotlib import rc\n",
    "rc('font',**{'family':'serif','serif':['Roman']})\n",
    "rc('text', usetex=True)"
   ]
  },
  {
   "cell_type": "markdown",
   "metadata": {},
   "source": [
    "Load ROOT file using `uproot`"
   ]
  },
  {
   "cell_type": "code",
   "execution_count": 2,
   "metadata": {},
   "outputs": [],
   "source": [
    "file = uproot.open(\"../data/model_tree.root\")\n",
    "tree = file['DecayTree']"
   ]
  },
  {
   "cell_type": "markdown",
   "metadata": {},
   "source": [
    "Load into `pandas` DataFrame"
   ]
  },
  {
   "cell_type": "code",
   "execution_count": 3,
   "metadata": {},
   "outputs": [],
   "source": [
    "df = tree.arrays(library=\"pd\")"
   ]
  },
  {
   "cell_type": "markdown",
   "metadata": {},
   "source": [
    "$B$ and $\\tau$ flight using true vertex positions:"
   ]
  },
  {
   "cell_type": "code",
   "execution_count": 4,
   "metadata": {},
   "outputs": [],
   "source": [
    "for comp in [\"x\",\"y\",\"z\"]:\n",
    "    for p in [\"B\",\"Tau_1\",\"Tau_2\"]:\n",
    "        df[f\"{p}_FD_{comp}\"] = df[f\"{p}_End_{comp}_TRUE\"] - df[f\"{p}_Ori_{comp}_TRUE\"]\n",
    "for p in [\"B\",\"Tau_1\",\"Tau_2\"]:\n",
    "    df[f\"{p}_FD\"] = np.sqrt(df[f\"{p}_FD_x\"]**2 + df[f\"{p}_FD_y\"]**2 + df[f\"{p}_FD_z\"]**2)"
   ]
  },
  {
   "cell_type": "markdown",
   "metadata": {},
   "source": [
    "PDG mass of $\\tau$"
   ]
  },
  {
   "cell_type": "code",
   "execution_count": 5,
   "metadata": {},
   "outputs": [],
   "source": [
    "Tau_M = lp.tau_plus.mass/1000."
   ]
  },
  {
   "cell_type": "markdown",
   "metadata": {},
   "source": [
    "$3\\pi$ system quantities at truth-level, to use in the $\\tau$ reconstruction"
   ]
  },
  {
   "cell_type": "code",
   "execution_count": 6,
   "metadata": {},
   "outputs": [],
   "source": [
    "for comp in [\"PX\",\"PY\",\"PZ\",\"E\"]:\n",
    "    for t in [\"1\",\"2\"]:\n",
    "        df[f\"3pi_{t}_{comp}_TRUE\"] = df[f\"Tau_{t}_Pi_1_{comp}_TRUE\"] + df[f\"Tau_{t}_Pi_2_{comp}_TRUE\"] + df[f\"Tau_{t}_Pi_3_{comp}_TRUE\"]\n",
    "for t in [\"1\",\"2\"]:\n",
    "    df[f\"3pi_{t}_P_TRUE\"] = np.sqrt(df[f\"3pi_{t}_PX_TRUE\"]**2 + df[f\"3pi_{t}_PY_TRUE\"]**2 + df[f\"3pi_{t}_PZ_TRUE\"]**2)\n",
    "    df[f\"3pi_{t}_M_TRUE\"] = np.sqrt(df[f\"3pi_{t}_E_TRUE\"]**2 - df[f\"3pi_{t}_P_TRUE\"]**2)"
   ]
  },
  {
   "cell_type": "markdown",
   "metadata": {},
   "source": [
    "Maximum angle of the $3\\pi$ momenta compared to $\\tau$ flight"
   ]
  },
  {
   "cell_type": "code",
   "execution_count": 7,
   "metadata": {},
   "outputs": [
    {
     "name": "stderr",
     "output_type": "stream",
     "text": [
      "/Users/dhill/miniconda/envs/PyEnv/lib/python3.7/site-packages/pandas/core/series.py:726: RuntimeWarning: invalid value encountered in arcsin\n",
      "  result = getattr(ufunc, method)(*inputs, **kwargs)\n"
     ]
    }
   ],
   "source": [
    "for t in [\"1\",\"2\"]:\n",
    "    df[f\"Tau_{t}_angle_max\"] = np.arcsin((Tau_M**2 - df[f\"3pi_{t}_M_TRUE\"]**2)/(2.*Tau_M*df[f\"3pi_{t}_P_TRUE\"]))"
   ]
  },
  {
   "cell_type": "markdown",
   "metadata": {},
   "source": [
    "$\\tau$ momentum solutions corresponding to maximum angle:"
   ]
  },
  {
   "cell_type": "code",
   "execution_count": 8,
   "metadata": {},
   "outputs": [],
   "source": [
    "for t in [\"1\",\"2\"]:\n",
    "    df[f\"Tau_{t}_P_reco\"] = ((df[f\"3pi_{t}_M_TRUE\"]**2 + Tau_M**2)*df[f\"3pi_{t}_P_TRUE\"]*np.cos(df[f\"Tau_{t}_angle_max\"]))/(2.*(df[f\"3pi_{t}_E_TRUE\"]**2 - df[f\"3pi_{t}_P_TRUE\"]**2*(np.cos(df[f\"Tau_{t}_angle_max\"]))**2))\n",
    "    df[f\"Tau_{t}_E_reco\"] = np.sqrt(df[f\"Tau_{t}_P_reco\"]**2 + Tau_M**2)\n",
    "    "
   ]
  },
  {
   "cell_type": "markdown",
   "metadata": {},
   "source": [
    "$\\tau$ momentum components using flight vector"
   ]
  },
  {
   "cell_type": "code",
   "execution_count": 9,
   "metadata": {},
   "outputs": [],
   "source": [
    "for t in [\"1\",\"2\"]:\n",
    "    for comp in [\"x\",\"y\",\"z\"]:\n",
    "        df[f\"Tau_{t}_P{comp.upper()}_reco\"] = df[f\"Tau_{t}_P_reco\"] * (df[f\"Tau_{t}_FD_{comp}\"]/df[f\"Tau_{t}_FD\"])"
   ]
  },
  {
   "cell_type": "markdown",
   "metadata": {},
   "source": [
    "$B$ quantities based on measured $K^*$ and estimated $\\tau$"
   ]
  },
  {
   "cell_type": "code",
   "execution_count": 10,
   "metadata": {},
   "outputs": [],
   "source": [
    "for comp in [\"PX\",\"PY\",\"PZ\",\"E\"]:\n",
    "    df[f\"B_{comp}_reco\"] = df[f\"Kst_{comp}_TRUE\"] + df[f\"Tau_1_{comp}_reco\"] + df[f\"Tau_2_{comp}_reco\"]\n",
    "df[\"B_P_reco\"] = np.sqrt(df[\"B_PX_reco\"]**2 + df[\"B_PY_reco\"]**2 + df[\"B_PZ_reco\"]**2)\n",
    "df[\"B_M_reco\"] = np.sqrt(df[\"B_E_reco\"]**2 - df[\"B_P_reco\"]**2)\n",
    "df[\"B_PX_reco_2\"] = df[\"B_P_reco\"] * (df[\"B_FD_x\"]/df[\"B_FD\"])\n",
    "mu = df[\"B_M_reco\"].mean()\n",
    "sigma = df[\"B_M_reco\"].std()"
   ]
  },
  {
   "cell_type": "markdown",
   "metadata": {},
   "source": [
    "Plot the reconstructed $B$ mass:"
   ]
  },
  {
   "cell_type": "code",
   "execution_count": 13,
   "metadata": {},
   "outputs": [
    {
     "data": {
      "image/png": "[encoded data removed]",
      "text/plain": [
       "<Figure size 864x576 with 1 Axes>"
      ]
     },
     "metadata": {
      "needs_background": "light"
     },
     "output_type": "display_data"
    }
   ],
   "source": [
    "fig, ax = plt.subplots(figsize=(12,8))\n",
    "n = len(df)\n",
    "bins = int(0.5*np.sqrt(n))\n",
    "low = 4.7\n",
    "high = 6.2\n",
    "bin_w = (high - low)/bins\n",
    "units = \"GeV/$c^2$\"\n",
    "\n",
    "counts, bin_edges = np.histogram(df[\"B_M_reco\"], bins, range=(low,high))\n",
    "bin_centres = (bin_edges[:-1] + bin_edges[1:])/2.\n",
    "err = np.sqrt(counts)\n",
    "plt.errorbar(bin_centres, counts, yerr=err, fmt='o', color='k')\n",
    "plt.xlabel(f\"$m(K^* \\\\tau \\\\tau)$ [{units}]\",fontsize=30)\n",
    "plt.ylabel(\"Candidates / (%.4f %s)\" % (bin_w, units), fontsize=30)\n",
    "plt.xlim(low,high)\n",
    "ax.tick_params(axis='both', which='major', labelsize=25)\n",
    "plt.axvline(lp.B_plus.mass/1000.,color='crimson',linestyle='--')\n",
    "ymin, ymax = plt.ylim()\n",
    "plt.ylim(0.,ymax*1.1)\n",
    "plt.text(high-0.7,0.95*ymax,\"\\\\textbf{RapidSim pp at 13 TeV}\",fontsize=20)\n",
    "plt.text(high-0.7,0.85*ymax,\"\\\\textit{Perfect momentum/vertex/mass res.}\",fontsize=20)\n",
    "plt.text(high-0.7,0.75*ymax,f\"$\\\\mu = {mu:.2f}$ {units}, $\\sigma = {sigma:.2f}$ {units}\",fontsize=20)\n",
    "plt.tight_layout()\n",
    "plt.show()\n",
    "fig.savefig(\"../plots/M_KstTauTau_reco.pdf\")"
   ]
  }
 ],
 "metadata": {
  "kernelspec": {
   "display_name": "PyEnv",
   "language": "python",
   "name": "pyenv"
  },
  "language_info": {
   "codemirror_mode": {
    "name": "ipython",
    "version": 3
   },
   "file_extension": ".py",
   "mimetype": "text/x-python",
   "name": "python",
   "nbconvert_exporter": "python",
   "pygments_lexer": "ipython3",
   "version": "3.7.8"
  }
 },
 "nbformat": 4,
 "nbformat_minor": 4
}
