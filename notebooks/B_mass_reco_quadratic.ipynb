{
 "cells": [
  {
   "cell_type": "markdown",
   "metadata": {},
   "source": [
    "# $B$ peak reconstruction for $B^0 \\to K^* \\tau \\tau$ using $\\tau \\to 3\\pi \\nu$\n",
    "\n",
    "This method uses the opening angle between the $3\\pi$ momentum and the $\\tau$ flight in order to calculate two solutions for each $\\tau$ momentum. This leads to four solutions for the $B$ momentum, and the best solution is chosen based on the minimum angle with respect to the $B$ flight vector. Perfect detector performance is assumed on all input quantities, so resolution effects appear purely due to the $\\tau$ momentum estimates. "
   ]
  },
  {
   "cell_type": "code",
   "execution_count": 89,
   "metadata": {},
   "outputs": [],
   "source": [
    "import sys, os\n",
    "import uproot4 as uproot\n",
    "import numpy as np\n",
    "import matplotlib.pyplot as plt\n",
    "import json\n",
    "from particle import literals as lp\n",
    "\n",
    "from matplotlib import rc\n",
    "rc('font',**{'family':'serif','serif':['Roman']})\n",
    "rc('text', usetex=True)"
   ]
  },
  {
   "cell_type": "markdown",
   "metadata": {},
   "source": [
    "Load ROOT file using `uproot`"
   ]
  },
  {
   "cell_type": "code",
   "execution_count": 90,
   "metadata": {},
   "outputs": [],
   "source": [
    "file = uproot.open(\"../data/model_tree.root\")\n",
    "tree = file['DecayTree']"
   ]
  },
  {
   "cell_type": "markdown",
   "metadata": {},
   "source": [
    "Load into `pandas` DataFrame"
   ]
  },
  {
   "cell_type": "code",
   "execution_count": 91,
   "metadata": {},
   "outputs": [],
   "source": [
    "df = tree.arrays(library=\"pd\")"
   ]
  },
  {
   "cell_type": "markdown",
   "metadata": {},
   "source": [
    "$B$ and $\\tau$ flight using true vertex positions:"
   ]
  },
  {
   "cell_type": "code",
   "execution_count": 92,
   "metadata": {},
   "outputs": [],
   "source": [
    "for comp in [\"x\",\"y\",\"z\"]:\n",
    "    for p in [\"B\",\"Tau_1\",\"Tau_2\"]:\n",
    "        df[f\"{p}_FD_{comp}\"] = df[f\"{p}_End_{comp}_TRUE\"] - df[f\"{p}_Ori_{comp}_TRUE\"]\n",
    "for p in [\"B\",\"Tau_1\",\"Tau_2\"]:\n",
    "    df[f\"{p}_FD\"] = np.sqrt(df[f\"{p}_FD_x\"]**2 + df[f\"{p}_FD_y\"]**2 + df[f\"{p}_FD_z\"]**2)"
   ]
  },
  {
   "cell_type": "markdown",
   "metadata": {},
   "source": [
    "PDG mass of $\\tau$"
   ]
  },
  {
   "cell_type": "code",
   "execution_count": 93,
   "metadata": {},
   "outputs": [],
   "source": [
    "Tau_M = lp.tau_plus.mass/1000."
   ]
  },
  {
   "cell_type": "markdown",
   "metadata": {},
   "source": [
    "$3\\pi$ system quantities at truth-level, to use in the $\\tau$ reconstruction"
   ]
  },
  {
   "cell_type": "code",
   "execution_count": 94,
   "metadata": {},
   "outputs": [],
   "source": [
    "for comp in [\"PX\",\"PY\",\"PZ\",\"E\"]:\n",
    "    for t in [\"1\",\"2\"]:\n",
    "        df[f\"3pi_{t}_{comp}_TRUE\"] = df[f\"Tau_{t}_Pi_1_{comp}_TRUE\"] + df[f\"Tau_{t}_Pi_2_{comp}_TRUE\"] + df[f\"Tau_{t}_Pi_3_{comp}_TRUE\"]\n",
    "for t in [\"1\",\"2\"]:\n",
    "    df[f\"3pi_{t}_P_TRUE\"] = np.sqrt(df[f\"3pi_{t}_PX_TRUE\"]**2 + df[f\"3pi_{t}_PY_TRUE\"]**2 + df[f\"3pi_{t}_PZ_TRUE\"]**2)\n",
    "    df[f\"3pi_{t}_M_TRUE\"] = np.sqrt(df[f\"3pi_{t}_E_TRUE\"]**2 - df[f\"3pi_{t}_P_TRUE\"]**2)"
   ]
  },
  {
   "cell_type": "markdown",
   "metadata": {},
   "source": [
    "Angle between the $\\tau$ flight vectors and the $3\\pi$ momenta"
   ]
  },
  {
   "cell_type": "code",
   "execution_count": 95,
   "metadata": {},
   "outputs": [],
   "source": [
    "for t in [\"1\",\"2\"]:\n",
    "    df[f\"Tau_{t}_costheta\"] = (df[f\"3pi_{t}_PX_TRUE\"]*df[f\"Tau_{t}_FD_x\"] + df[f\"3pi_{t}_PY_TRUE\"]*df[f\"Tau_{t}_FD_y\"] + df[f\"3pi_{t}_PZ_TRUE\"]*df[f\"Tau_{t}_FD_z\"])/(df[f\"3pi_{t}_P_TRUE\"]*df[f\"Tau_{t}_FD\"])\n",
    "    df[f\"Tau_{t}_theta\"] = np.arccos(df[f\"Tau_{t}_costheta\"])"
   ]
  },
  {
   "cell_type": "markdown",
   "metadata": {},
   "source": [
    "$\\tau$ momentum solutions using this angle"
   ]
  },
  {
   "cell_type": "code",
   "execution_count": 96,
   "metadata": {},
   "outputs": [],
   "source": [
    "for t in [\"1\",\"2\"]:\n",
    "    df[f\"Tau_{t}_quad\"] = df[f\"3pi_{t}_E_TRUE\"]*np.sqrt((Tau_M**2 - df[f\"3pi_{t}_M_TRUE\"]**2)**2 - 4*Tau_M**2*df[f\"3pi_{t}_P_TRUE\"]**2*(np.sin(df[f\"Tau_{t}_theta\"]))**2)\n",
    "    df[f\"Tau_{t}_P_reco_p\"] = ((df[f\"3pi_{t}_M_TRUE\"]**2 + Tau_M**2)*df[f\"3pi_{t}_P_TRUE\"]*np.cos(df[f\"Tau_{t}_theta\"]) + df[f\"Tau_{t}_quad\"])/(2.*(df[f\"3pi_{t}_E_TRUE\"]**2 - df[f\"3pi_{t}_P_TRUE\"]**2*(np.cos(df[f\"Tau_{t}_theta\"]))**2))\n",
    "    df[f\"Tau_{t}_P_reco_m\"] = ((df[f\"3pi_{t}_M_TRUE\"]**2 + Tau_M**2)*df[f\"3pi_{t}_P_TRUE\"]*np.cos(df[f\"Tau_{t}_theta\"]) - df[f\"Tau_{t}_quad\"])/(2.*(df[f\"3pi_{t}_E_TRUE\"]**2 - df[f\"3pi_{t}_P_TRUE\"]**2*(np.cos(df[f\"Tau_{t}_theta\"]))**2))\n",
    "    df[f\"Tau_{t}_E_reco_p\"] = np.sqrt(df[f\"Tau_{t}_P_reco_p\"]**2 + Tau_M**2)\n",
    "    df[f\"Tau_{t}_E_reco_m\"] = np.sqrt(df[f\"Tau_{t}_P_reco_m\"]**2 + Tau_M**2)"
   ]
  },
  {
   "cell_type": "markdown",
   "metadata": {},
   "source": [
    "Momentum components"
   ]
  },
  {
   "cell_type": "code",
   "execution_count": 97,
   "metadata": {},
   "outputs": [],
   "source": [
    "for t in [\"1\",\"2\"]:\n",
    "    for sol in [\"p\",\"m\"]:\n",
    "        for comp in [\"x\",\"y\",\"z\"]:\n",
    "            df[f\"Tau_{t}_P{comp.upper()}_reco_{sol}\"] = df[f\"Tau_{t}_P_reco_{sol}\"] * (df[f\"Tau_{t}_FD_{comp}\"]/df[f\"Tau_{t}_FD\"])"
   ]
  },
  {
   "cell_type": "markdown",
   "metadata": {},
   "source": [
    "$B$ solutions, four in total combining the two $\\tau$ solutions"
   ]
  },
  {
   "cell_type": "code",
   "execution_count": 98,
   "metadata": {},
   "outputs": [],
   "source": [
    "for sol1 in [\"p\",\"m\"]:\n",
    "    for sol2 in [\"p\",\"m\"]:\n",
    "        for comp in [\"PX\",\"PY\",\"PZ\",\"E\"]:\n",
    "            df[f\"B_{comp}_reco_{sol1}{sol2}\"] = df[f\"Kst_{comp}_TRUE\"] + df[f\"Tau_1_{comp}_reco_{sol1}\"] + df[f\"Tau_2_{comp}_reco_{sol2}\"]\n",
    "        df[f\"B_P_reco_{sol1}{sol2}\"] = np.sqrt(df[f\"B_PX_reco_{sol1}{sol2}\"]**2 + df[f\"B_PY_reco_{sol1}{sol2}\"]**2 + df[f\"B_PZ_reco_{sol1}{sol2}\"]**2)\n",
    "        df[f\"B_M_reco_{sol1}{sol2}\"] = np.sqrt(df[f\"B_E_reco_{sol1}{sol2}\"]**2 - df[f\"B_P_reco_{sol1}{sol2}\"]**2)"
   ]
  },
  {
   "cell_type": "markdown",
   "metadata": {},
   "source": [
    "Calculate angle between the $B$ momentum solution and $B$ flight - minimum angle is the best solution"
   ]
  },
  {
   "cell_type": "code",
   "execution_count": 99,
   "metadata": {},
   "outputs": [
    {
     "name": "stderr",
     "output_type": "stream",
     "text": [
      "/Users/dhill/miniconda/envs/PyEnv/lib/python3.7/site-packages/pandas/core/series.py:726: RuntimeWarning: invalid value encountered in arccos\n",
      "  result = getattr(ufunc, method)(*inputs, **kwargs)\n"
     ]
    }
   ],
   "source": [
    "for sol1 in [\"p\",\"m\"]:\n",
    "    for sol2 in [\"p\",\"m\"]:\n",
    "        df[f\"B_costheta_{sol1}{sol2}\"] = (df[f\"B_PX_reco_{sol1}{sol2}\"]*df[f\"B_FD_x\"] + df[f\"B_PY_reco_{sol1}{sol2}\"]*df[f\"B_FD_y\"] + df[f\"B_PZ_reco_{sol1}{sol2}\"]*df[f\"B_FD_z\"])/(df[f\"B_P_reco_{sol1}{sol2}\"]*df[f\"B_FD\"])\n",
    "        df[f\"B_theta_{sol1}{sol2}\"] = np.arccos(df[f\"B_costheta_{sol1}{sol2}\"])"
   ]
  },
  {
   "cell_type": "markdown",
   "metadata": {},
   "source": [
    "Loop over events, and define best $B$ mass as the one with minimal angle between momentum estimate and flight"
   ]
  },
  {
   "cell_type": "code",
   "execution_count": 100,
   "metadata": {},
   "outputs": [],
   "source": [
    "best_mass = []\n",
    "for index, row in df.iterrows():\n",
    "    min_angle = np.pi\n",
    "    best_pair = \"\"\n",
    "    for sol1 in [\"p\",\"m\"]:\n",
    "        for sol1 in [\"p\",\"m\"]:\n",
    "            angle = row[f\"B_theta_{sol1}{sol2}\"]\n",
    "            if(angle < min_angle):\n",
    "                min_angle = angle\n",
    "                best_pair = f\"{sol1}{sol2}\"\n",
    "    if(best_pair!=\"\"):\n",
    "        best_mass.append(row[f\"B_M_reco_{best_pair}\"])\n",
    "    else:\n",
    "        best_mass.append(-999)"
   ]
  },
  {
   "cell_type": "code",
   "execution_count": 101,
   "metadata": {},
   "outputs": [],
   "source": [
    "df[\"B_M_best\"] = best_mass\n",
    "df = df.query(\"B_M_best > 0\")\n",
    "mu = df[\"B_M_best\"].mean()\n",
    "sigma = df[\"B_M_best\"].std()"
   ]
  },
  {
   "cell_type": "code",
   "execution_count": 112,
   "metadata": {},
   "outputs": [
    {
     "data": {
      "image/png": "[encoded data removed]",
      "text/plain": [
       "<Figure size 864x576 with 1 Axes>"
      ]
     },
     "metadata": {
      "needs_background": "light"
     },
     "output_type": "display_data"
    }
   ],
   "source": [
    "fig, ax = plt.subplots(figsize=(12,8))\n",
    "n = len(df)\n",
    "bins = 2*int(np.sqrt(n))\n",
    "low = 4.7\n",
    "high = 6.2\n",
    "bin_w = (high - low)/bins\n",
    "units = \"GeV/$c^2$\"\n",
    "\n",
    "counts, bin_edges = np.histogram(df[\"B_M_best\"], bins, range=(low,high))\n",
    "bin_centres = (bin_edges[:-1] + bin_edges[1:])/2.\n",
    "err = np.sqrt(counts)\n",
    "plt.errorbar(bin_centres, counts, yerr=err, fmt='o', color='k')\n",
    "plt.xlabel(f\"$m(K^* \\\\tau \\\\tau)$ [{units}]\",fontsize=30)\n",
    "plt.ylabel(\"Candidates / (%.4f %s)\" % (bin_w, units), fontsize=30)\n",
    "plt.xlim(low,high)\n",
    "ax.tick_params(axis='both', which='major', labelsize=25)\n",
    "plt.axvline(lp.B_plus.mass/1000.,color='crimson',linestyle='--')\n",
    "ymin, ymax = plt.ylim()\n",
    "plt.ylim(0.,ymax*1.1)\n",
    "plt.text(high-0.6,0.95*ymax,\"\\\\textbf{RapidSim pp at 13 TeV}\",fontsize=20)\n",
    "#plt.text(high-0.7,0.85*ymax,\"\\\\textit{Perfect momentum/vertex/mass res.}\",fontsize=20)\n",
    "#plt.text(high-0.7,0.75*ymax,f\"$\\\\mu = {mu:.2f}$ {units}, $\\sigma = {sigma:.2f}$ {units}\",fontsize=20)\n",
    "plt.tight_layout()\n",
    "plt.show()\n",
    "fig.savefig(\"../plots/M_KstTauTau_reco_best.pdf\")"
   ]
  }
 ],
 "metadata": {
  "kernelspec": {
   "display_name": "PyEnv",
   "language": "python",
   "name": "pyenv"
  },
  "language_info": {
   "codemirror_mode": {
    "name": "ipython",
    "version": 3
   },
   "file_extension": ".py",
   "mimetype": "text/x-python",
   "name": "python",
   "nbconvert_exporter": "python",
   "pygments_lexer": "ipython3",
   "version": "3.7.8"
  }
 },
 "nbformat": 4,
 "nbformat_minor": 4
}
